{
 "cells": [
  {
   "cell_type": "markdown",
   "metadata": {},
   "source": [
    " # Programming and Database Fundamentals for Data Scientists - EAS503"
   ]
  },
  {
   "cell_type": "markdown",
   "metadata": {},
   "source": [
    "Python classes and objects.\n",
    "\n",
    "In this notebook we will discuss the notion of classes and objects, which are a fundamental concept. Using the keyword `class`, one can define a class.\n",
    "\n",
    "Before learning about how to define classes, we will first understand the need for defining classes."
   ]
  },
  {
   "cell_type": "markdown",
   "metadata": {},
   "source": [
    "### A Simple Banking Application\n",
    "Read data from `csv` files containing customer and account information and find all customers with more than \\$25,000 in their bank account."
   ]
  },
  {
   "cell_type": "code",
   "execution_count": 108,
   "metadata": {
    "collapsed": true
   },
   "outputs": [],
   "source": [
    "# Logical design\n",
    "## Leave this as a homework exercise"
   ]
  },
  {
   "cell_type": "code",
   "execution_count": 109,
   "metadata": {
    "collapsed": true
   },
   "outputs": [],
   "source": [
    "# OOD\n",
    "class Customer:\n",
    "\n",
    "    def __init__(self, customerid, name, address):\n",
    "        self.__name = name\n",
    "        self.__customerid = customerid\n",
    "        self.__address = address\n",
    "        self.__accounts = []\n",
    "        \n",
    "    def add_account(self, account):\n",
    "        self.__accounts.append(account)\n",
    "\n",
    "\n",
    "    def get_total(self):\n",
    "        s = 0\n",
    "        for a in self.__accounts:\n",
    "            s = s + a.get_amount()\n",
    "        return s\n",
    "    \n",
    "    def get_name(self):\n",
    "        return self.__name\n",
    "\n",
    "\n",
    "class Account:\n",
    "    def __init__(self,accounttype,amount):\n",
    "        self.__accounttype = accounttype\n",
    "        self.__amount = amount\n",
    "    \n",
    "    def get_amount(self):\n",
    "        return self.__amount\n",
    "    \n",
    "    "
   ]
  },
  {
   "cell_type": "code",
   "execution_count": 110,
   "metadata": {
    "collapsed": false
   },
   "outputs": [],
   "source": [
    "import csv\n",
    "customers = {}\n",
    "with open('./customers.csv') as f:\n",
    "    reader = csv.reader(f)\n",
    "    next(reader)\n",
    "    for row in reader:\n",
    "        customer = Customer(row[0],row[1],row[2])\n",
    "        customers[row[0]] = customer\n",
    "\n",
    "with open('./accounts.csv') as f:\n",
    "    reader = csv.reader(f)\n",
    "    next(reader)\n",
    "    for row in reader:\n",
    "        customerid = row[1]\n",
    "        account = Account(row[0],int(row[2]))\n",
    "        customers[customerid].add_account(account)"
   ]
  },
  {
   "cell_type": "code",
   "execution_count": 111,
   "metadata": {
    "collapsed": false
   },
   "outputs": [
    {
     "name": "stdout",
     "output_type": "stream",
     "text": [
      "Jane\n",
      "Alice\n"
     ]
    }
   ],
   "source": [
    "for c in customers.keys():\n",
    "    if customers[c].get_total() > 25000:\n",
    "        print(customers[c].get_name())"
   ]
  },
  {
   "cell_type": "markdown",
   "metadata": {},
   "source": [
    "## Defining Classes\n",
    "More details about `class` definition"
   ]
  },
  {
   "cell_type": "code",
   "execution_count": 52,
   "metadata": {
    "collapsed": true
   },
   "outputs": [],
   "source": [
    "# this class has no __init__ function\n",
    "class myclass:\n",
    "    def mymethod(self):\n",
    "        print(\"hey\")"
   ]
  },
  {
   "cell_type": "code",
   "execution_count": 51,
   "metadata": {
    "collapsed": false
   },
   "outputs": [
    {
     "name": "stdout",
     "output_type": "stream",
     "text": [
      "hey\n"
     ]
    }
   ],
   "source": [
    "myobj = myclass()\n",
    "myobj.mymethod()"
   ]
  },
  {
   "cell_type": "code",
   "execution_count": 112,
   "metadata": {
    "collapsed": false
   },
   "outputs": [],
   "source": [
    "# this class has no __init__ function\n",
    "class myclass:\n",
    "    # we define a field \n",
    "    classtype='My Class'\n",
    "    def mymethod(self):\n",
    "        print(\"This is \"+classtype)"
   ]
  },
  {
   "cell_type": "code",
   "execution_count": 113,
   "metadata": {
    "collapsed": false
   },
   "outputs": [
    {
     "name": "stdout",
     "output_type": "stream",
     "text": [
      "My Class\n"
     ]
    },
    {
     "ename": "TypeError",
     "evalue": "mymethod() missing 1 required positional argument: 'self'",
     "output_type": "error",
     "traceback": [
      "\u001b[0;31m---------------------------------------------------------------------------\u001b[0m",
      "\u001b[0;31mTypeError\u001b[0m                                 Traceback (most recent call last)",
      "\u001b[0;32m<ipython-input-113-9a4469083b99>\u001b[0m in \u001b[0;36m<module>\u001b[0;34m()\u001b[0m\n\u001b[1;32m      1\u001b[0m \u001b[0mprint\u001b[0m\u001b[0;34m(\u001b[0m\u001b[0mmyclass\u001b[0m\u001b[0;34m.\u001b[0m\u001b[0mclasstype\u001b[0m\u001b[0;34m)\u001b[0m\u001b[0;34m\u001b[0m\u001b[0m\n\u001b[0;32m----> 2\u001b[0;31m \u001b[0mmyclass\u001b[0m\u001b[0;34m.\u001b[0m\u001b[0mmymethod\u001b[0m\u001b[0;34m(\u001b[0m\u001b[0;34m)\u001b[0m\u001b[0;34m\u001b[0m\u001b[0m\n\u001b[0m",
      "\u001b[0;31mTypeError\u001b[0m: mymethod() missing 1 required positional argument: 'self'"
     ]
    }
   ],
   "source": [
    "print(myclass.classtype)\n",
    "myclass.mymethod()"
   ]
  },
  {
   "cell_type": "code",
   "execution_count": 114,
   "metadata": {
    "collapsed": false
   },
   "outputs": [
    {
     "ename": "NameError",
     "evalue": "name 'classtype' is not defined",
     "output_type": "error",
     "traceback": [
      "\u001b[0;31m---------------------------------------------------------------------------\u001b[0m",
      "\u001b[0;31mNameError\u001b[0m                                 Traceback (most recent call last)",
      "\u001b[0;32m<ipython-input-114-889962213983>\u001b[0m in \u001b[0;36m<module>\u001b[0;34m()\u001b[0m\n\u001b[1;32m      1\u001b[0m \u001b[0mmyobj\u001b[0m \u001b[0;34m=\u001b[0m \u001b[0mmyclass\u001b[0m\u001b[0;34m(\u001b[0m\u001b[0;34m)\u001b[0m\u001b[0;34m\u001b[0m\u001b[0m\n\u001b[0;32m----> 2\u001b[0;31m \u001b[0mmyobj\u001b[0m\u001b[0;34m.\u001b[0m\u001b[0mmymethod\u001b[0m\u001b[0;34m(\u001b[0m\u001b[0;34m)\u001b[0m\u001b[0;34m\u001b[0m\u001b[0m\n\u001b[0m",
      "\u001b[0;32m<ipython-input-112-8b189f329e87>\u001b[0m in \u001b[0;36mmymethod\u001b[0;34m(self)\u001b[0m\n\u001b[1;32m      4\u001b[0m     \u001b[0mclasstype\u001b[0m\u001b[0;34m=\u001b[0m\u001b[0;34m'My Class'\u001b[0m\u001b[0;34m\u001b[0m\u001b[0m\n\u001b[1;32m      5\u001b[0m     \u001b[0;32mdef\u001b[0m \u001b[0mmymethod\u001b[0m\u001b[0;34m(\u001b[0m\u001b[0mself\u001b[0m\u001b[0;34m)\u001b[0m\u001b[0;34m:\u001b[0m\u001b[0;34m\u001b[0m\u001b[0m\n\u001b[0;32m----> 6\u001b[0;31m         \u001b[0mprint\u001b[0m\u001b[0;34m(\u001b[0m\u001b[0;34m\"This is \"\u001b[0m\u001b[0;34m+\u001b[0m\u001b[0mclasstype\u001b[0m\u001b[0;34m)\u001b[0m\u001b[0;34m\u001b[0m\u001b[0m\n\u001b[0m",
      "\u001b[0;31mNameError\u001b[0m: name 'classtype' is not defined"
     ]
    }
   ],
   "source": [
    "myobj = myclass()\n",
    "myobj.mymethod()"
   ]
  },
  {
   "cell_type": "code",
   "execution_count": 118,
   "metadata": {
    "collapsed": true
   },
   "outputs": [],
   "source": [
    "# this class has not __init__ function\n",
    "class myclass:\n",
    "    # we define a global field \n",
    "    classtype='My Class'\n",
    "    def mymethod(self):\n",
    "        print(\"This is \"+self.classtype) # note that we are explicitly referencing the field of the class\n",
    "        \n",
    "    def mymethod2(self):\n",
    "        print(\"This is\"+self.classtype)"
   ]
  },
  {
   "cell_type": "code",
   "execution_count": 119,
   "metadata": {
    "collapsed": false
   },
   "outputs": [
    {
     "name": "stdout",
     "output_type": "stream",
     "text": [
      "This isMy Class\n"
     ]
    }
   ],
   "source": [
    "myobj = myclass()\n",
    "myobj.mymethod2()"
   ]
  },
  {
   "cell_type": "markdown",
   "metadata": {},
   "source": [
    "#### Issues with defining fields outside the `__init__` function\n",
    "If global field is mutable"
   ]
  },
  {
   "cell_type": "code",
   "execution_count": 84,
   "metadata": {
    "collapsed": true
   },
   "outputs": [],
   "source": [
    "# this class has not __init__ function\n",
    "class myclass:\n",
    "    # we define a field \n",
    "    classtypes=['int']\n",
    "    def mymethod(self):\n",
    "        print(self.classtypes) # note that we are explicitly referencing the field of the class"
   ]
  },
  {
   "cell_type": "code",
   "execution_count": 86,
   "metadata": {
    "collapsed": false
   },
   "outputs": [
    {
     "name": "stdout",
     "output_type": "stream",
     "text": [
      "['int', 'float']\n",
      "['int', 'float']\n",
      "['int', 'float', 'float']\n",
      "['int', 'float', 'float']\n"
     ]
    }
   ],
   "source": [
    "myobj1 = myclass()\n",
    "myobj2 = myclass()\n",
    "\n",
    "myobj1.mymethod()\n",
    "myobj2.mymethod()\n",
    "\n",
    "myobj1.classtypes.append('float')\n",
    "\n",
    "myobj1.mymethod()\n",
    "myobj2.mymethod()"
   ]
  },
  {
   "cell_type": "markdown",
   "metadata": {},
   "source": [
    "#### How to avoid the above issue?\n",
    "Define mutable fields within `__init__`"
   ]
  },
  {
   "cell_type": "code",
   "execution_count": 120,
   "metadata": {
    "collapsed": true
   },
   "outputs": [],
   "source": [
    "# this class has an __init__ function\n",
    "class myclass:\n",
    "    def __init__(self):\n",
    "        # we define a field \n",
    "        self.classtypes=['int']\n",
    "    def mymethod(self):\n",
    "        print(self.classtypes) # note that we are explicitly referencing the field of the class"
   ]
  },
  {
   "cell_type": "code",
   "execution_count": 121,
   "metadata": {
    "collapsed": false
   },
   "outputs": [
    {
     "name": "stdout",
     "output_type": "stream",
     "text": [
      "['int']\n",
      "['int']\n",
      "['int', 'float']\n",
      "['int']\n"
     ]
    }
   ],
   "source": [
    "myobj1 = myclass()\n",
    "myobj2 = myclass()\n",
    "\n",
    "myobj1.mymethod()\n",
    "myobj2.mymethod()\n",
    "\n",
    "myobj1.classtypes.append('float')\n",
    "\n",
    "myobj1.mymethod()\n",
    "myobj2.mymethod()"
   ]
  },
  {
   "cell_type": "code",
   "execution_count": 89,
   "metadata": {
    "collapsed": false
   },
   "outputs": [
    {
     "data": {
      "text/plain": [
       "['int', 'float']"
      ]
     },
     "execution_count": 89,
     "metadata": {},
     "output_type": "execute_result"
    }
   ],
   "source": [
    "# you can directly access the field\n",
    "myobj1.mymethod()\n"
   ]
  },
  {
   "cell_type": "markdown",
   "metadata": {},
   "source": [
    "#### Hide fields from external use"
   ]
  },
  {
   "cell_type": "code",
   "execution_count": 122,
   "metadata": {
    "collapsed": false
   },
   "outputs": [
    {
     "name": "stdout",
     "output_type": "stream",
     "text": [
      "chandola\n"
     ]
    }
   ],
   "source": [
    "class account:\n",
    "    def __init__(self,u,p):\n",
    "        self.username = u\n",
    "        self.password = p\n",
    "act = account('chandola','chandola')\n",
    "print(act.password)"
   ]
  },
  {
   "cell_type": "code",
   "execution_count": 132,
   "metadata": {
    "collapsed": false
   },
   "outputs": [
    {
     "name": "stdout",
     "output_type": "stream",
     "text": [
      "chandola\n",
      "True\n"
     ]
    }
   ],
   "source": [
    "class account:\n",
    "    def __init__(self,u,p):\n",
    "        self.__username = u\n",
    "        self.__password = p\n",
    "    \n",
    "    def getUsername(self):\n",
    "        return self.__username\n",
    "    \n",
    "    def checkPassword(self,p):\n",
    "        if p == self.__getPassword():\n",
    "            return True\n",
    "        else:\n",
    "            return False\n",
    "    def __getPassword(self):\n",
    "        return self.__password\n",
    "    \n",
    "act = account('chandola','chandola')\n",
    "print(act.getUsername())\n",
    "print(act.checkPassword('chandola'))\n",
    "#print(act.__getPassword())"
   ]
  },
  {
   "cell_type": "code",
   "execution_count": null,
   "metadata": {
    "collapsed": true
   },
   "outputs": [],
   "source": [
    "# this class has an __init__ function\n",
    "class myclass:\n",
    "    def __init__(self):\n",
    "        # we define a field \n",
    "        self.__classtypes=['int']"
   ]
  },
  {
   "cell_type": "code",
   "execution_count": 91,
   "metadata": {
    "collapsed": false
   },
   "outputs": [
    {
     "ename": "AttributeError",
     "evalue": "'myclass' object has no attribute '__classtypes'",
     "output_type": "error",
     "traceback": [
      "\u001b[0;31m---------------------------------------------------------------------------\u001b[0m",
      "\u001b[0;31mAttributeError\u001b[0m                            Traceback (most recent call last)",
      "\u001b[0;32m<ipython-input-91-7734c0dc7e1b>\u001b[0m in \u001b[0;36m<module>\u001b[0;34m()\u001b[0m\n\u001b[1;32m      1\u001b[0m \u001b[0mmyobj1\u001b[0m \u001b[0;34m=\u001b[0m \u001b[0mmyclass\u001b[0m\u001b[0;34m(\u001b[0m\u001b[0;34m)\u001b[0m\u001b[0;34m\u001b[0m\u001b[0m\n\u001b[0;32m----> 2\u001b[0;31m \u001b[0mmyobj1\u001b[0m\u001b[0;34m.\u001b[0m\u001b[0m__classtypes\u001b[0m\u001b[0;34m\u001b[0m\u001b[0m\n\u001b[0m",
      "\u001b[0;31mAttributeError\u001b[0m: 'myclass' object has no attribute '__classtypes'"
     ]
    }
   ],
   "source": [
    "myobj1 = myclass()\n",
    "myobj1.__classtypes"
   ]
  },
  {
   "cell_type": "code",
   "execution_count": 92,
   "metadata": {
    "collapsed": true
   },
   "outputs": [],
   "source": [
    "# the private field will be accessible to the class methods\n",
    "class myclass:\n",
    "    def __init__(self):\n",
    "        # we define a field \n",
    "        self.__classtypes=['int']\n",
    "    \n",
    "    def appendType(self,newtype):\n",
    "        self.__classtypes.append(newtype)"
   ]
  },
  {
   "cell_type": "code",
   "execution_count": 93,
   "metadata": {
    "collapsed": true
   },
   "outputs": [],
   "source": [
    "myobj1 = myclass()\n",
    "myobj1.appendType('float')"
   ]
  },
  {
   "cell_type": "code",
   "execution_count": 96,
   "metadata": {
    "collapsed": false
   },
   "outputs": [
    {
     "ename": "AttributeError",
     "evalue": "'myclass' object has no attribute '__classtypes'",
     "output_type": "error",
     "traceback": [
      "\u001b[0;31m---------------------------------------------------------------------------\u001b[0m",
      "\u001b[0;31mAttributeError\u001b[0m                            Traceback (most recent call last)",
      "\u001b[0;32m<ipython-input-96-cd739cb295d7>\u001b[0m in \u001b[0;36m<module>\u001b[0;34m()\u001b[0m\n\u001b[1;32m      1\u001b[0m \u001b[0;31m# still cannot access the field outside\u001b[0m\u001b[0;34m\u001b[0m\u001b[0;34m\u001b[0m\u001b[0m\n\u001b[0;32m----> 2\u001b[0;31m \u001b[0mmyobj1\u001b[0m\u001b[0;34m.\u001b[0m\u001b[0m__classtypes\u001b[0m\u001b[0;34m\u001b[0m\u001b[0m\n\u001b[0m",
      "\u001b[0;31mAttributeError\u001b[0m: 'myclass' object has no attribute '__classtypes'"
     ]
    }
   ],
   "source": [
    "# still cannot access the field outside\n",
    "myobj1.__classtypes"
   ]
  },
  {
   "cell_type": "code",
   "execution_count": 106,
   "metadata": {
    "collapsed": true
   },
   "outputs": [],
   "source": [
    "# solution -- create a getter method\n",
    "class myclass:\n",
    "    def __init__(self):\n",
    "        # we define a field \n",
    "        self.__classtypes=['int']\n",
    "        \n",
    "    def appendType(self,newtype):\n",
    "        self.__classtypes.append(newtype)\n",
    "        \n",
    "    def getClasstypes(self):\n",
    "        return self.__classtypes"
   ]
  },
  {
   "cell_type": "code",
   "execution_count": 107,
   "metadata": {
    "collapsed": false
   },
   "outputs": [
    {
     "data": {
      "text/plain": [
       "['int', 'float']"
      ]
     },
     "execution_count": 107,
     "metadata": {},
     "output_type": "execute_result"
    }
   ],
   "source": [
    "myobj1 = myclass()\n",
    "myobj1.appendType('float')\n",
    "myobj1.getClasstypes()"
   ]
  },
  {
   "cell_type": "markdown",
   "metadata": {},
   "source": [
    "One can create `getter` and `setter` methods to manipulate fields. While the name of the methods can be arbitrary, a good programming practice is to use get`FieldNameWithoutUnderscores()` and set`FieldNameWithoutUnderscores()`"
   ]
  },
  {
   "cell_type": "markdown",
   "metadata": {},
   "source": [
    "### A Data Science Application\n",
    "\n",
    "Consider the _Chicago Crime Data Set_ that we have looked at before. Here we will assume that the data is available to use as a csv file, with a known format."
   ]
  },
  {
   "cell_type": "code",
   "execution_count": 10,
   "metadata": {
    "collapsed": false
   },
   "outputs": [],
   "source": [
    "# reading the csv file with Chicago Crime Data\n",
    "import csv #we are going to use the csv module available in Python to read a csv file \n",
    "data = []\n",
    "with open('./chicago_crime_data.csv') as f:\n",
    "    reader = csv.reader(f)\n",
    "    next(reader) # skip the header using the in-built function next which just skips one entry in an iterator\n",
    "    for row in reader:\n",
    "        data.append(row)\n",
    "        "
   ]
  },
  {
   "cell_type": "markdown",
   "metadata": {},
   "source": [
    "The variable `data` is a `list` containing all of our data. But the list structure is not easy to use. Consider for example, the simple task of "
   ]
  }
 ],
 "metadata": {
  "kernelspec": {
   "display_name": "Python 3",
   "language": "python",
   "name": "python3"
  },
  "language_info": {
   "codemirror_mode": {
    "name": "ipython",
    "version": 3
   },
   "file_extension": ".py",
   "mimetype": "text/x-python",
   "name": "python",
   "nbconvert_exporter": "python",
   "pygments_lexer": "ipython3",
   "version": "3.6.0"
  }
 },
 "nbformat": 4,
 "nbformat_minor": 2
}
