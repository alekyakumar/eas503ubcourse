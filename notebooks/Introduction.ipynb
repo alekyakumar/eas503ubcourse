{
 "cells": [
  {
   "cell_type": "markdown",
   "metadata": {},
   "source": [
    "# Programming and Database Fundamentals for Data Scientists - EAS503"
   ]
  },
  {
   "cell_type": "markdown",
   "metadata": {},
   "source": [
    "## A practical introduction to IPython Notebooks\n",
    "## Some notes about installation:\n",
    "\n",
    "### Don't do this:\n",
    "\n",
    "```\n",
    "sudo apt-get install ipython-notebook\n",
    "```\n",
    "\n",
    "### Instead, do this:\n",
    "\n",
    "```\n",
    "pip install ipython tornado pyzmq\n",
    "```\n",
    "\n",
    "or install Anaconda from [http://store.continuum.io](http://store.continuum.io)\n",
    "\n",
    "You can start IPython notebook by running\n",
    "\n",
    "```\n",
    "ipython notebook --pylab inline\n",
    "```"
   ]
  }
 ],
 "metadata": {
  "kernelspec": {
   "display_name": "Python 3",
   "language": "python",
   "name": "python3"
  },
  "language_info": {
   "codemirror_mode": {
    "name": "ipython",
    "version": 3
   },
   "file_extension": ".py",
   "mimetype": "text/x-python",
   "name": "python",
   "nbconvert_exporter": "python",
   "pygments_lexer": "ipython3",
   "version": "3.6.0"
  }
 },
 "nbformat": 4,
 "nbformat_minor": 0
}
