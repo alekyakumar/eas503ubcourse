{
 "cells": [
  {
   "cell_type": "markdown",
   "metadata": {},
   "source": [
    " # Programming and Database Fundamentals for Data Scientists - EAS503"
   ]
  },
  {
   "cell_type": "markdown",
   "metadata": {},
   "source": [
    "Python classes and objects.\n",
    "\n",
    "In this notebook we will discuss the notion of classes and objects, which are a fundamental concept. Using the keyword `class`, one can define a class.\n",
    "\n",
    "Before learning about how to define classes, we will first understand the need for defining classes."
   ]
  },
  {
   "cell_type": "markdown",
   "metadata": {},
   "source": [
    "**A Data Science Application**\n",
    "\n",
    "Consider the _Chicago Crime Data Set_ that we have looked at before. Here we will assume that the data is available to use as a csv file, with a known format."
   ]
  },
  {
   "cell_type": "code",
   "execution_count": 10,
   "metadata": {
    "collapsed": false
   },
   "outputs": [],
   "source": [
    "# reading the csv file with Chicago Crime Data\n",
    "import csv #we are going to use the csv module available in Python to read a csv file \n",
    "data = []\n",
    "with open('./chicago_crime_data.csv') as f:\n",
    "    reader = csv.reader(f)\n",
    "    next(reader) # skip the header using the in-built function next which just skips one entry in an iterator\n",
    "    for row in reader:\n",
    "        data.append(row)\n",
    "        "
   ]
  },
  {
   "cell_type": "markdown",
   "metadata": {},
   "source": [
    "The variable `data` is a `list` containing all of our data. But the list structure is not easy to use. Consider for example, the simple task of "
   ]
  }
 ],
 "metadata": {
  "kernelspec": {
   "display_name": "Python 3",
   "language": "python",
   "name": "python3"
  },
  "language_info": {
   "codemirror_mode": {
    "name": "ipython",
    "version": 3
   },
   "file_extension": ".py",
   "mimetype": "text/x-python",
   "name": "python",
   "nbconvert_exporter": "python",
   "pygments_lexer": "ipython3",
   "version": "3.6.0"
  }
 },
 "nbformat": 4,
 "nbformat_minor": 2
}
