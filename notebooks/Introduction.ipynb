{
 "cells": [
  {
   "cell_type": "markdown",
   "metadata": {},
   "source": [
    "# Programming and Database Fundamentals for Data Scientists - EAS503"
   ]
  },
  {
   "cell_type": "markdown",
   "metadata": {},
   "source": [
    "## A practical introduction to IPython Notebooks\n",
    "## Some notes about installation:\n",
    "\n",
    "### Don't do this:\n",
    "\n",
    "```\n",
    "sudo apt-get install ipython-notebook\n",
    "```\n",
    "\n",
    "### Instead, do this:\n",
    "\n",
    "```\n",
    "pip install ipython tornado pyzmq\n",
    "```\n",
    "\n",
    "\n",
    "Otherwise, follow the instructions at: [https://docs.continuum.io/anaconda/install/](https://docs.continuum.io/anaconda/install/)\n",
    "\n",
    "You can start IPython notebook by running\n",
    "\n",
    "```\n",
    "jupyter notebook\n",
    "```\n"
   ]
  },
  {
   "cell_type": "markdown",
   "metadata": {},
   "source": [
    "## Setting up mysql database\n",
    "In this course we will use mysql database. You can install it following instructions here:\n",
    "[https://dev.mysql.com/downloads/mysql/](https://dev.mysql.com/downloads/mysql/)\n",
    "\n",
    "After this step, you should have a mysql database running on your laptop.\n",
    "### Installing python bindings for mysql\n",
    "To be able to connect to the mysql database, you need to install the interface (MySQLdb) that will let you connect to the database from within a python application. More information here:\n",
    "\n",
    "[http://mysql-python.sourceforge.net/](http://mysql-python.sourceforge.net/)\n",
    "\n",
    "In Unix-like environments (including MacOS), you can try:\n",
    "```\n",
    "pip install mysql-python\n",
    "```\n"
   ]
  },
  {
   "cell_type": "markdown",
   "metadata": {},
   "source": [
    "### Demonstrating a simple data science pipeline.\n",
    "Data available from [Chicago Crime Data](https://data.cityofchicago.org/Public-Safety/Crimes-2001-to-present/ijzp-q8t2)\n",
    "\n",
    "Before starting to play with the Chicago data, you will need to import the data into your database. We will assume that the database server is running on localhost on the standard port (see mysql help for handling other settings), the username is `username` and the password is `password` (You should use better usernames and passwords!)\n",
    "\n",
    "#### Step 1: Getting the data\n",
    "Download the data from [here](https://www.cse.buffalo.edu/ubds/docs/chicago_crime_data.csv). This is only data for 2015 onwards. You can also download the full dataset here as well [here](https://www.cse.buffalo.edu/ubds/docs/chicago_crime_data_all.csv).\n",
    "\n",
    "#### Step 2: Setting up the database\n",
    "Create a new database and the empty table using the lines below. You can either go into `mysql` command prompt and copy them, or just copy them into a text file (`script.sql`) and use the command line prompt:\n",
    "\n",
    "```\n",
    "mysql -u username -p < script.sql\n",
    "```\n",
    "\n",
    "You will be prompted for your password.\n",
    "```\n",
    "-- create database\n",
    "create database if not exists eas503db;\n",
    "use eas503db;\n",
    "-- create table\n",
    "drop table if exists `chicago_crime_data`;\n",
    "create table `chicago_crime_data` (\n",
    "  ID mediumint(9),\n",
    "  Case_Number text,\n",
    "  Date varchar(32),\n",
    "  Block text,\n",
    "  IUCR text,\n",
    "  Primary_Type text,\n",
    "  Description text,\n",
    "  Location_Description text,\n",
    "  Arrest varchar(6),\n",
    "  Domestic varchar(6),\n",
    "  Beat text,\n",
    "  District text,\n",
    "  Ward int,\n",
    "  Community_Area text,\n",
    "  FBI_Code text,\n",
    "  X_Coordinate float,\n",
    "  Y_Coordinate float,\n",
    "  Year int(4),\n",
    "  Updated_On varchar(32),\n",
    "  Latitude float,\n",
    "  Longitude float,\n",
    "  Location varchar(64)\n",
    ");\n",
    "```\n",
    "\n",
    "#### Step 3: Importing data into the database.\n",
    "We will use `mysqlimport` to do the bulk import. You may use the direct INFILE LOAD command from the `mysql` prompt, which does the same thing.\n",
    "\n",
    "```\n",
    "mysqlimport --local --fields-terminated-by=, --fields-enclosed-by='\"' --ignore-lines=1 -u root -proot eas503db chicago_crime_data.csv\n",
    "```\n",
    "\n",
    "#### Step 4: Converting the date elements to the correct data type\n",
    "You need final few adjustments to make sure that the date fields are stored as the correct `datetime` type.\n",
    "\n",
    "```\n",
    "update chicago_crime_data set Date =  STR_TO_DATE(Date, '%m/%d/%Y %h:%i:%s %p');\n",
    "alter table chicago_crime_data modify Date datetime;\n",
    "update chicago_crime_data set Updated_On =  STR_TO_DATE(Updated_On, '%m/%d/%Y %h:%i:%s %p');\n",
    "alter table chicago_crime_data modify Updated_On datetime;\n",
    "```"
   ]
  },
  {
   "cell_type": "code",
   "execution_count": 1,
   "metadata": {
    "collapsed": false
   },
   "outputs": [],
   "source": [
    "import MySQLdb"
   ]
  },
  {
   "cell_type": "code",
   "execution_count": 2,
   "metadata": {
    "collapsed": true
   },
   "outputs": [],
   "source": [
    "# Start the connection to database\n",
    "# make sure to close it after your are done\n",
    "db = MySQLdb.connect(host=\"localhost\",    # your host, usually localhost\n",
    "                     user=\"root\",         # your username\n",
    "                     passwd=\"root\",       # your password\n",
    "                     db=\"eas503db\")    # name of the data base"
   ]
  },
  {
   "cell_type": "markdown",
   "metadata": {},
   "source": [
    "### Let us start with a very simple query\n",
    "Get the total number of rows in the database"
   ]
  },
  {
   "cell_type": "code",
   "execution_count": 3,
   "metadata": {
    "collapsed": false
   },
   "outputs": [
    {
     "data": {
      "text/plain": [
       "1"
      ]
     },
     "execution_count": 3,
     "metadata": {},
     "output_type": "execute_result"
    }
   ],
   "source": [
    "querystr = 'SELECT count(*) FROM chicago_crime_data'\n",
    "cur = db.cursor()\n",
    "cur.execute(querystr)"
   ]
  },
  {
   "cell_type": "code",
   "execution_count": 4,
   "metadata": {
    "collapsed": false
   },
   "outputs": [
    {
     "name": "stdout",
     "output_type": "stream",
     "text": [
      "Total number of cases are:\n",
      "(6414902,)\n"
     ]
    }
   ],
   "source": [
    "for row in cur.fetchall():\n",
    "    print(\"Total number of cases are:\")\n",
    "    print(row)\n",
    "    "
   ]
  },
  {
   "cell_type": "markdown",
   "metadata": {},
   "source": [
    "### Doing more interesting things with SQL\n",
    "Which are the more crime ridden areas in Chicago since 2016?"
   ]
  },
  {
   "cell_type": "code",
   "execution_count": 6,
   "metadata": {
    "collapsed": false
   },
   "outputs": [
    {
     "data": {
      "text/plain": [
       "23"
      ]
     },
     "execution_count": 6,
     "metadata": {},
     "output_type": "execute_result"
    }
   ],
   "source": [
    "querystr = 'SELECT count(*) as cnt, District FROM chicago_crime_data WHERE Date > str_to_date(\\'2016/01/01\\',\\'%Y/%m/%d\\') GROUP BY District ORDER BY cnt'\n",
    "cur = db.cursor()\n",
    "cur.execute(querystr)"
   ]
  },
  {
   "cell_type": "code",
   "execution_count": 7,
   "metadata": {
    "collapsed": false
   },
   "outputs": [],
   "source": [
    "for row in cur.fetchall():\n",
    "    print(row1)"
   ]
  },
  {
   "cell_type": "markdown",
   "metadata": {},
   "source": [
    "### Zooming into Jefferson Park (011)"
   ]
  },
  {
   "cell_type": "code",
   "execution_count": 8,
   "metadata": {
    "collapsed": false
   },
   "outputs": [
    {
     "ename": "NameError",
     "evalue": "name 'db1' is not defined",
     "output_type": "error",
     "traceback": [
      "\u001b[0;31m-----------------------------------------------------------------\u001b[0m",
      "\u001b[0;31mNameError\u001b[0m                       Traceback (most recent call last)",
      "\u001b[0;32m<ipython-input-8-48d882f05180>\u001b[0m in \u001b[0;36m<module>\u001b[0;34m()\u001b[0m\n\u001b[1;32m      1\u001b[0m \u001b[0mquerystr\u001b[0m \u001b[0;34m=\u001b[0m \u001b[0;34m'SELECT count(*) as cnt, Primary_Type FROM chicago_crime_data WHERE District = \"011\" AND Date > str_to_date(\\'2016/01/01\\',\\'%Y/%m/%d\\') GROUP BY Primary_Type ORDER BY cnt'\u001b[0m\u001b[0;34m\u001b[0m\u001b[0m\n\u001b[0;32m----> 2\u001b[0;31m \u001b[0mcur\u001b[0m \u001b[0;34m=\u001b[0m \u001b[0mdb1\u001b[0m\u001b[0;34m.\u001b[0m\u001b[0mcursor\u001b[0m\u001b[0;34m(\u001b[0m\u001b[0;34m)\u001b[0m\u001b[0;34m\u001b[0m\u001b[0m\n\u001b[0m\u001b[1;32m      3\u001b[0m \u001b[0mcur\u001b[0m\u001b[0;34m.\u001b[0m\u001b[0mexecute\u001b[0m\u001b[0;34m(\u001b[0m\u001b[0mquerystr\u001b[0m\u001b[0;34m)\u001b[0m\u001b[0;34m\u001b[0m\u001b[0m\n",
      "\u001b[0;31mNameError\u001b[0m: name 'db1' is not defined"
     ]
    }
   ],
   "source": [
    "querystr = 'SELECT count(*) as cnt, Primary_Type FROM chicago_crime_data WHERE District = \"011\" AND Date > str_to_date(\\'2016/01/01\\',\\'%Y/%m/%d\\') GROUP BY Primary_Type ORDER BY cnt'\n",
    "cur = db1.cursor()\n",
    "cur.execute(querystr)"
   ]
  },
  {
   "cell_type": "code",
   "execution_count": 13,
   "metadata": {
    "collapsed": false
   },
   "outputs": [
    {
     "name": "stdout",
     "output_type": "stream",
     "text": [
      "(1, 'NON-CRIMINAL')\n",
      "(1, 'NON-CRIMINAL (SUBJECT SPECIFIED)')\n",
      "(1, 'NON - CRIMINAL')\n",
      "(2, 'HUMAN TRAFFICKING')\n",
      "(2, 'PUBLIC INDECENCY')\n",
      "(3, 'CONCEALED CARRY LICENSE VIOLATION')\n",
      "(4, 'OBSCENITY')\n",
      "(11, 'INTIMIDATION')\n",
      "(12, 'STALKING')\n",
      "(18, 'LIQUOR LAW VIOLATION')\n",
      "(21, 'KIDNAPPING')\n",
      "(49, 'ARSON')\n",
      "(73, 'SEX OFFENSE')\n",
      "(86, 'GAMBLING')\n",
      "(144, 'HOMICIDE')\n",
      "(158, 'CRIM SEXUAL ASSAULT')\n",
      "(203, 'OFFENSE INVOLVING CHILDREN')\n",
      "(231, 'INTERFERENCE WITH PUBLIC OFFICER')\n",
      "(274, 'PUBLIC PEACE VIOLATION')\n",
      "(644, 'CRIMINAL TRESPASS')\n",
      "(720, 'WEAPONS VIOLATION')\n",
      "(745, 'PROSTITUTION')\n",
      "(787, 'BURGLARY')\n",
      "(847, 'DECEPTIVE PRACTICE')\n",
      "(1212, 'MOTOR VEHICLE THEFT')\n",
      "(1571, 'ROBBERY')\n",
      "(1768, 'OTHER OFFENSE')\n",
      "(2200, 'ASSAULT')\n",
      "(2825, 'CRIMINAL DAMAGE')\n",
      "(3327, 'THEFT')\n",
      "(5707, 'NARCOTICS')\n",
      "(6364, 'BATTERY')\n"
     ]
    }
   ],
   "source": [
    "for row in cur.fetchall():\n",
    "    print(row)"
   ]
  },
  {
   "cell_type": "code",
   "execution_count": null,
   "metadata": {
    "collapsed": false
   },
   "outputs": [],
   "source": [
    "db.close()"
   ]
  },
  {
   "cell_type": "markdown",
   "metadata": {},
   "source": [
    "### PYTHON Library PANDAS\n",
    "One can directly read into a pandas data frame from a database"
   ]
  },
  {
   "cell_type": "code",
   "execution_count": 8,
   "metadata": {
    "collapsed": true
   },
   "outputs": [],
   "source": [
    "import pandas as pd"
   ]
  },
  {
   "cell_type": "code",
   "execution_count": 9,
   "metadata": {
    "collapsed": true
   },
   "outputs": [],
   "source": [
    "df = pd.read_sql('SELECT * FROM chicago_crime_data limit 10', con=db)"
   ]
  },
  {
   "cell_type": "code",
   "execution_count": 10,
   "metadata": {
    "collapsed": false
   },
   "outputs": [
    {
     "data": {
      "text/html": [
       "<div>\n",
       "<table border=\"1\" class=\"dataframe\">\n",
       "  <thead>\n",
       "    <tr style=\"text-align: right;\">\n",
       "      <th></th>\n",
       "      <th>ID</th>\n",
       "      <th>Case_Number</th>\n",
       "      <th>Date</th>\n",
       "      <th>Block</th>\n",
       "      <th>IUCR</th>\n",
       "      <th>Primary_Type</th>\n",
       "      <th>Description</th>\n",
       "      <th>Location_Description</th>\n",
       "      <th>Arrest</th>\n",
       "      <th>Domestic</th>\n",
       "      <th>...</th>\n",
       "      <th>Ward</th>\n",
       "      <th>Community_Area</th>\n",
       "      <th>FBI_Code</th>\n",
       "      <th>X_Coordinate</th>\n",
       "      <th>Y_Coordinate</th>\n",
       "      <th>Year</th>\n",
       "      <th>Updated_On</th>\n",
       "      <th>Latitude</th>\n",
       "      <th>Longitude</th>\n",
       "      <th>Location</th>\n",
       "    </tr>\n",
       "  </thead>\n",
       "  <tbody>\n",
       "    <tr>\n",
       "      <th>0</th>\n",
       "      <td>2130451</td>\n",
       "      <td>HH370782</td>\n",
       "      <td>2002-05-14 11:05:00</td>\n",
       "      <td>042XX N LINCOLN AVE</td>\n",
       "      <td>1330</td>\n",
       "      <td>CRIMINAL TRESPASS</td>\n",
       "      <td>TO LAND</td>\n",
       "      <td>STREET</td>\n",
       "      <td>true</td>\n",
       "      <td>false</td>\n",
       "      <td>...</td>\n",
       "      <td>47</td>\n",
       "      <td>5</td>\n",
       "      <td>26</td>\n",
       "      <td>1161500.0</td>\n",
       "      <td>1928060.0</td>\n",
       "      <td>2002</td>\n",
       "      <td>2016-04-15 08:55:02</td>\n",
       "      <td>41.9583</td>\n",
       "      <td>-87.6816</td>\n",
       "      <td>(41.958265994, -87.681638768)</td>\n",
       "    </tr>\n",
       "    <tr>\n",
       "      <th>1</th>\n",
       "      <td>2130452</td>\n",
       "      <td>HH371865</td>\n",
       "      <td>2002-05-14 18:30:00</td>\n",
       "      <td>035XX W MONTROSE AVE</td>\n",
       "      <td>1130</td>\n",
       "      <td>DECEPTIVE PRACTICE</td>\n",
       "      <td>FRAUD OR CONFIDENCE GAME</td>\n",
       "      <td>BOWLING ALLEY</td>\n",
       "      <td>true</td>\n",
       "      <td>false</td>\n",
       "      <td>...</td>\n",
       "      <td>33</td>\n",
       "      <td>14</td>\n",
       "      <td>11</td>\n",
       "      <td>1151800.0</td>\n",
       "      <td>1929010.0</td>\n",
       "      <td>2002</td>\n",
       "      <td>2016-04-15 08:55:02</td>\n",
       "      <td>41.9611</td>\n",
       "      <td>-87.7173</td>\n",
       "      <td>(41.961078175, -87.717311252)</td>\n",
       "    </tr>\n",
       "    <tr>\n",
       "      <th>2</th>\n",
       "      <td>2130453</td>\n",
       "      <td>HH370756</td>\n",
       "      <td>2002-05-13 14:15:00</td>\n",
       "      <td>114XX S EGGLESTON AVE</td>\n",
       "      <td>0460</td>\n",
       "      <td>BATTERY</td>\n",
       "      <td>SIMPLE</td>\n",
       "      <td>SCHOOL, PUBLIC, BUILDING</td>\n",
       "      <td>false</td>\n",
       "      <td>false</td>\n",
       "      <td>...</td>\n",
       "      <td>34</td>\n",
       "      <td>49</td>\n",
       "      <td>08B</td>\n",
       "      <td>1175340.0</td>\n",
       "      <td>1829150.0</td>\n",
       "      <td>2002</td>\n",
       "      <td>2016-04-15 08:55:02</td>\n",
       "      <td>41.6866</td>\n",
       "      <td>-87.6337</td>\n",
       "      <td>(41.686553786, -87.633737393)</td>\n",
       "    </tr>\n",
       "    <tr>\n",
       "      <th>3</th>\n",
       "      <td>2130454</td>\n",
       "      <td>HH368289</td>\n",
       "      <td>2002-05-13 08:00:00</td>\n",
       "      <td>013XX S KEELER AVE</td>\n",
       "      <td>0430</td>\n",
       "      <td>BATTERY</td>\n",
       "      <td>AGGRAVATED: OTHER DANG WEAPON</td>\n",
       "      <td>STREET</td>\n",
       "      <td>false</td>\n",
       "      <td>false</td>\n",
       "      <td>...</td>\n",
       "      <td>24</td>\n",
       "      <td>29</td>\n",
       "      <td>04B</td>\n",
       "      <td>1148600.0</td>\n",
       "      <td>1893540.0</td>\n",
       "      <td>2002</td>\n",
       "      <td>2016-04-15 08:55:02</td>\n",
       "      <td>41.8638</td>\n",
       "      <td>-87.7300</td>\n",
       "      <td>(41.863818515, -87.729989801)</td>\n",
       "    </tr>\n",
       "    <tr>\n",
       "      <th>4</th>\n",
       "      <td>2130456</td>\n",
       "      <td>HH368415</td>\n",
       "      <td>2002-05-13 10:30:00</td>\n",
       "      <td>075XX S CONSTANCE AVE</td>\n",
       "      <td>0545</td>\n",
       "      <td>ASSAULT</td>\n",
       "      <td>PRO EMP HANDS NO/MIN INJURY</td>\n",
       "      <td>SCHOOL, PUBLIC, BUILDING</td>\n",
       "      <td>true</td>\n",
       "      <td>false</td>\n",
       "      <td>...</td>\n",
       "      <td>8</td>\n",
       "      <td>43</td>\n",
       "      <td>08A</td>\n",
       "      <td>1189840.0</td>\n",
       "      <td>1855360.0</td>\n",
       "      <td>2002</td>\n",
       "      <td>2016-04-15 08:55:02</td>\n",
       "      <td>41.7581</td>\n",
       "      <td>-87.5798</td>\n",
       "      <td>(41.758138498, -87.579797849)</td>\n",
       "    </tr>\n",
       "    <tr>\n",
       "      <th>5</th>\n",
       "      <td>2202800</td>\n",
       "      <td>HH462192</td>\n",
       "      <td>2002-06-23 18:35:00</td>\n",
       "      <td>028XX W LUIS MUNOZ MARIN DR N</td>\n",
       "      <td>0470</td>\n",
       "      <td>PUBLIC PEACE VIOLATION</td>\n",
       "      <td>RECKLESS CONDUCT</td>\n",
       "      <td>PARK PROPERTY</td>\n",
       "      <td>true</td>\n",
       "      <td>false</td>\n",
       "      <td>...</td>\n",
       "      <td>26</td>\n",
       "      <td>24</td>\n",
       "      <td>24</td>\n",
       "      <td>1157080.0</td>\n",
       "      <td>1910260.0</td>\n",
       "      <td>2002</td>\n",
       "      <td>2016-04-15 08:55:02</td>\n",
       "      <td>41.9095</td>\n",
       "      <td>-87.6984</td>\n",
       "      <td>(41.909510016, -87.698398735)</td>\n",
       "    </tr>\n",
       "    <tr>\n",
       "      <th>6</th>\n",
       "      <td>2130457</td>\n",
       "      <td>HH365745</td>\n",
       "      <td>2002-05-11 23:15:20</td>\n",
       "      <td>043XX S LAMON AVE</td>\n",
       "      <td>1320</td>\n",
       "      <td>CRIMINAL DAMAGE</td>\n",
       "      <td>TO VEHICLE</td>\n",
       "      <td>STREET</td>\n",
       "      <td>false</td>\n",
       "      <td>false</td>\n",
       "      <td>...</td>\n",
       "      <td>23</td>\n",
       "      <td>56</td>\n",
       "      <td>14</td>\n",
       "      <td>1144590.0</td>\n",
       "      <td>1875330.0</td>\n",
       "      <td>2002</td>\n",
       "      <td>2016-04-15 08:55:02</td>\n",
       "      <td>41.8139</td>\n",
       "      <td>-87.7452</td>\n",
       "      <td>(41.813910365, -87.745164685)</td>\n",
       "    </tr>\n",
       "    <tr>\n",
       "      <th>7</th>\n",
       "      <td>2130458</td>\n",
       "      <td>HH368466</td>\n",
       "      <td>2002-05-05 11:00:00</td>\n",
       "      <td>041XX S WELLS ST</td>\n",
       "      <td>0820</td>\n",
       "      <td>THEFT</td>\n",
       "      <td>$500 AND UNDER</td>\n",
       "      <td>STREET</td>\n",
       "      <td>false</td>\n",
       "      <td>false</td>\n",
       "      <td>...</td>\n",
       "      <td>3</td>\n",
       "      <td>37</td>\n",
       "      <td>06</td>\n",
       "      <td>1175310.0</td>\n",
       "      <td>1877300.0</td>\n",
       "      <td>2002</td>\n",
       "      <td>2016-04-15 08:55:02</td>\n",
       "      <td>41.8187</td>\n",
       "      <td>-87.6324</td>\n",
       "      <td>(41.818689442, -87.632418468)</td>\n",
       "    </tr>\n",
       "    <tr>\n",
       "      <th>8</th>\n",
       "      <td>2130460</td>\n",
       "      <td>HH364031</td>\n",
       "      <td>2002-05-11 06:15:00</td>\n",
       "      <td>005XX E 71ST ST</td>\n",
       "      <td>0610</td>\n",
       "      <td>BURGLARY</td>\n",
       "      <td>FORCIBLE ENTRY</td>\n",
       "      <td>BAR OR TAVERN</td>\n",
       "      <td>false</td>\n",
       "      <td>false</td>\n",
       "      <td>...</td>\n",
       "      <td>6</td>\n",
       "      <td>69</td>\n",
       "      <td>05</td>\n",
       "      <td>1180890.0</td>\n",
       "      <td>1858060.0</td>\n",
       "      <td>2002</td>\n",
       "      <td>2016-04-15 08:55:02</td>\n",
       "      <td>41.7658</td>\n",
       "      <td>-87.6125</td>\n",
       "      <td>(41.765758187, -87.612541077)</td>\n",
       "    </tr>\n",
       "    <tr>\n",
       "      <th>9</th>\n",
       "      <td>2130461</td>\n",
       "      <td>HH372769</td>\n",
       "      <td>2002-05-14 08:15:00</td>\n",
       "      <td>0000X E MONROE ST</td>\n",
       "      <td>0820</td>\n",
       "      <td>THEFT</td>\n",
       "      <td>$500 AND UNDER</td>\n",
       "      <td>STREET</td>\n",
       "      <td>false</td>\n",
       "      <td>false</td>\n",
       "      <td>...</td>\n",
       "      <td>42</td>\n",
       "      <td>32</td>\n",
       "      <td>06</td>\n",
       "      <td>1177000.0</td>\n",
       "      <td>1899950.0</td>\n",
       "      <td>2002</td>\n",
       "      <td>2016-04-15 08:55:02</td>\n",
       "      <td>41.8808</td>\n",
       "      <td>-87.6255</td>\n",
       "      <td>(41.880801792, -87.625515824)</td>\n",
       "    </tr>\n",
       "  </tbody>\n",
       "</table>\n",
       "<p>10 rows × 22 columns</p>\n",
       "</div>"
      ],
      "text/plain": [
       "        ID Case_Number                Date                          Block  \\\n",
       "0  2130451    HH370782 2002-05-14 11:05:00            042XX N LINCOLN AVE   \n",
       "1  2130452    HH371865 2002-05-14 18:30:00           035XX W MONTROSE AVE   \n",
       "2  2130453    HH370756 2002-05-13 14:15:00          114XX S EGGLESTON AVE   \n",
       "3  2130454    HH368289 2002-05-13 08:00:00             013XX S KEELER AVE   \n",
       "4  2130456    HH368415 2002-05-13 10:30:00          075XX S CONSTANCE AVE   \n",
       "5  2202800    HH462192 2002-06-23 18:35:00  028XX W LUIS MUNOZ MARIN DR N   \n",
       "6  2130457    HH365745 2002-05-11 23:15:20              043XX S LAMON AVE   \n",
       "7  2130458    HH368466 2002-05-05 11:00:00               041XX S WELLS ST   \n",
       "8  2130460    HH364031 2002-05-11 06:15:00                005XX E 71ST ST   \n",
       "9  2130461    HH372769 2002-05-14 08:15:00              0000X E MONROE ST   \n",
       "\n",
       "   IUCR            Primary_Type                    Description  \\\n",
       "0  1330       CRIMINAL TRESPASS                        TO LAND   \n",
       "1  1130      DECEPTIVE PRACTICE       FRAUD OR CONFIDENCE GAME   \n",
       "2  0460                 BATTERY                         SIMPLE   \n",
       "3  0430                 BATTERY  AGGRAVATED: OTHER DANG WEAPON   \n",
       "4  0545                 ASSAULT    PRO EMP HANDS NO/MIN INJURY   \n",
       "5  0470  PUBLIC PEACE VIOLATION               RECKLESS CONDUCT   \n",
       "6  1320         CRIMINAL DAMAGE                     TO VEHICLE   \n",
       "7  0820                   THEFT                 $500 AND UNDER   \n",
       "8  0610                BURGLARY                 FORCIBLE ENTRY   \n",
       "9  0820                   THEFT                 $500 AND UNDER   \n",
       "\n",
       "       Location_Description Arrest Domestic              ...                \\\n",
       "0                    STREET   true    false              ...                 \n",
       "1             BOWLING ALLEY   true    false              ...                 \n",
       "2  SCHOOL, PUBLIC, BUILDING  false    false              ...                 \n",
       "3                    STREET  false    false              ...                 \n",
       "4  SCHOOL, PUBLIC, BUILDING   true    false              ...                 \n",
       "5             PARK PROPERTY   true    false              ...                 \n",
       "6                    STREET  false    false              ...                 \n",
       "7                    STREET  false    false              ...                 \n",
       "8             BAR OR TAVERN  false    false              ...                 \n",
       "9                    STREET  false    false              ...                 \n",
       "\n",
       "  Ward Community_Area  FBI_Code X_Coordinate Y_Coordinate  Year  \\\n",
       "0   47              5        26    1161500.0    1928060.0  2002   \n",
       "1   33             14        11    1151800.0    1929010.0  2002   \n",
       "2   34             49       08B    1175340.0    1829150.0  2002   \n",
       "3   24             29       04B    1148600.0    1893540.0  2002   \n",
       "4    8             43       08A    1189840.0    1855360.0  2002   \n",
       "5   26             24        24    1157080.0    1910260.0  2002   \n",
       "6   23             56        14    1144590.0    1875330.0  2002   \n",
       "7    3             37        06    1175310.0    1877300.0  2002   \n",
       "8    6             69        05    1180890.0    1858060.0  2002   \n",
       "9   42             32        06    1177000.0    1899950.0  2002   \n",
       "\n",
       "           Updated_On  Latitude Longitude                       Location  \n",
       "0 2016-04-15 08:55:02   41.9583  -87.6816  (41.958265994, -87.681638768)  \n",
       "1 2016-04-15 08:55:02   41.9611  -87.7173  (41.961078175, -87.717311252)  \n",
       "2 2016-04-15 08:55:02   41.6866  -87.6337  (41.686553786, -87.633737393)  \n",
       "3 2016-04-15 08:55:02   41.8638  -87.7300  (41.863818515, -87.729989801)  \n",
       "4 2016-04-15 08:55:02   41.7581  -87.5798  (41.758138498, -87.579797849)  \n",
       "5 2016-04-15 08:55:02   41.9095  -87.6984  (41.909510016, -87.698398735)  \n",
       "6 2016-04-15 08:55:02   41.8139  -87.7452  (41.813910365, -87.745164685)  \n",
       "7 2016-04-15 08:55:02   41.8187  -87.6324  (41.818689442, -87.632418468)  \n",
       "8 2016-04-15 08:55:02   41.7658  -87.6125  (41.765758187, -87.612541077)  \n",
       "9 2016-04-15 08:55:02   41.8808  -87.6255  (41.880801792, -87.625515824)  \n",
       "\n",
       "[10 rows x 22 columns]"
      ]
     },
     "execution_count": 10,
     "metadata": {},
     "output_type": "execute_result"
    }
   ],
   "source": [
    "df"
   ]
  },
  {
   "cell_type": "code",
   "execution_count": null,
   "metadata": {
    "collapsed": true
   },
   "outputs": [],
   "source": [
    "df = pd.read_sql(querystr, con=db)"
   ]
  },
  {
   "cell_type": "code",
   "execution_count": 42,
   "metadata": {
    "collapsed": false
   },
   "outputs": [],
   "source": [
    "def converter():\n",
    "    celsius = eval(input(\"What is the Celsius temperature? \"))\n",
    "    f = celsius*(9/5) + 32\n",
    "    print(\"Temperature in Fahrenheit is %d\"%f)"
   ]
  },
  {
   "cell_type": "code",
   "execution_count": 43,
   "metadata": {
    "collapsed": false
   },
   "outputs": [
    {
     "name": "stdout",
     "output_type": "stream",
     "text": [
      "What is the Celsius temperature? 23.7\n",
      "Temperature in Fahrenheit is 74\n"
     ]
    }
   ],
   "source": [
    "converter()"
   ]
  },
  {
   "cell_type": "code",
   "execution_count": 30,
   "metadata": {
    "collapsed": false
   },
   "outputs": [
    {
     "name": "stdout",
     "output_type": "stream",
     "text": [
      "What is your current location? int(4)\n"
     ]
    }
   ],
   "source": [
    "location= eval(input(\"What is your current location? \"))"
   ]
  },
  {
   "cell_type": "code",
   "execution_count": 34,
   "metadata": {
    "collapsed": false
   },
   "outputs": [
    {
     "data": {
      "text/plain": [
       "4"
      ]
     },
     "execution_count": 34,
     "metadata": {},
     "output_type": "execute_result"
    }
   ],
   "source": [
    "eval(\"4\")"
   ]
  },
  {
   "cell_type": "code",
   "execution_count": 12,
   "metadata": {
    "collapsed": false
   },
   "outputs": [
    {
     "name": "stdout",
     "output_type": "stream",
     "text": [
      "Hello World\n",
      "\n"
     ]
    }
   ],
   "source": [
    "print(\"Hello World\\n\")"
   ]
  },
  {
   "cell_type": "markdown",
   "metadata": {},
   "source": [
    "### Some pythonisms"
   ]
  },
  {
   "cell_type": "code",
   "execution_count": 13,
   "metadata": {
    "collapsed": false
   },
   "outputs": [
    {
     "name": "stdout",
     "output_type": "stream",
     "text": [
      "The Zen of Python, by Tim Peters\n",
      "\n",
      "Beautiful is better than ugly.\n",
      "Explicit is better than implicit.\n",
      "Simple is better than complex.\n",
      "Complex is better than complicated.\n",
      "Flat is better than nested.\n",
      "Sparse is better than dense.\n",
      "Readability counts.\n",
      "Special cases aren't special enough to break the rules.\n",
      "Although practicality beats purity.\n",
      "Errors should never pass silently.\n",
      "Unless explicitly silenced.\n",
      "In the face of ambiguity, refuse the temptation to guess.\n",
      "There should be one-- and preferably only one --obvious way to do it.\n",
      "Although that way may not be obvious at first unless you're Dutch.\n",
      "Now is better than never.\n",
      "Although never is often better than *right* now.\n",
      "If the implementation is hard to explain, it's a bad idea.\n",
      "If the implementation is easy to explain, it may be a good idea.\n",
      "Namespaces are one honking great idea -- let's do more of those!\n"
     ]
    }
   ],
   "source": [
    "import this"
   ]
  },
  {
   "cell_type": "markdown",
   "metadata": {},
   "source": [
    "#### simultaneous assignments"
   ]
  },
  {
   "cell_type": "code",
   "execution_count": 5,
   "metadata": {
    "collapsed": false
   },
   "outputs": [
    {
     "name": "stdout",
     "output_type": "stream",
     "text": [
      "5\n",
      "3\n"
     ]
    }
   ],
   "source": [
    "x = 5\n",
    "y = 3\n",
    "print(x)\n",
    "print(y)"
   ]
  },
  {
   "cell_type": "code",
   "execution_count": 6,
   "metadata": {
    "collapsed": false
   },
   "outputs": [
    {
     "name": "stdout",
     "output_type": "stream",
     "text": [
      "5\n",
      "3\n"
     ]
    }
   ],
   "source": [
    "x,y = 5,3\n",
    "print(x)\n",
    "print(y)"
   ]
  },
  {
   "cell_type": "code",
   "execution_count": 7,
   "metadata": {
    "collapsed": false
   },
   "outputs": [
    {
     "name": "stdout",
     "output_type": "stream",
     "text": [
      "2\n",
      "8\n"
     ]
    }
   ],
   "source": [
    "sm,df = x-y,x+y\n",
    "print(sm)\n",
    "print(df)"
   ]
  },
  {
   "cell_type": "code",
   "execution_count": 9,
   "metadata": {
    "collapsed": false
   },
   "outputs": [
    {
     "name": "stdout",
     "output_type": "stream",
     "text": [
      "3\n",
      "5\n"
     ]
    }
   ],
   "source": [
    "# swapping values\n",
    "x,y = 5,3\n",
    "y,x = x,y\n",
    "print(x)\n",
    "print(y)"
   ]
  },
  {
   "cell_type": "code",
   "execution_count": 14,
   "metadata": {
    "collapsed": false
   },
   "outputs": [
    {
     "data": {
      "text/plain": [
       "int"
      ]
     },
     "execution_count": 14,
     "metadata": {},
     "output_type": "execute_result"
    }
   ],
   "source": [
    "type(x)"
   ]
  }
 ],
 "metadata": {
  "kernelspec": {
   "display_name": "Python 3",
   "language": "python",
   "name": "python3"
  },
  "language_info": {
   "codemirror_mode": {
    "name": "ipython",
    "version": 3
   },
   "file_extension": ".py",
   "mimetype": "text/x-python",
   "name": "python",
   "nbconvert_exporter": "python",
   "pygments_lexer": "ipython3",
   "version": "3.6.0"
  }
 },
 "nbformat": 4,
 "nbformat_minor": 0
}
